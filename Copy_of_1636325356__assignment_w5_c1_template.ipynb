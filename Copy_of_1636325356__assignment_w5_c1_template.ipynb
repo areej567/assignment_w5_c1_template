{
  "nbformat": 4,
  "nbformat_minor": 0,
  "metadata": {
    "kernelspec": {
      "display_name": "Python 3",
      "language": "python",
      "name": "python3"
    },
    "language_info": {
      "codemirror_mode": {
        "name": "ipython",
        "version": 3
      },
      "file_extension": ".py",
      "mimetype": "text/x-python",
      "name": "python",
      "nbconvert_exporter": "python",
      "pygments_lexer": "ipython3",
      "version": "3.8.5"
    },
    "colab": {
      "name": "Copy of 1636325356__assignment_w5_c1_template.ipynb",
      "provenance": [],
      "collapsed_sections": []
    }
  },
  "cells": [
    {
      "cell_type": "markdown",
      "metadata": {
        "id": "EmvtByabqjma"
      },
      "source": [
        "Week 5, Assignment C1:\n",
        "\n",
        "Logistic Regression with Yahoo! Finance API in Python\n",
        "\n",
        "In this notebook, we will study Logistic Regression using the Yahoo! Finance API in Python.\n",
        "\n",
        "Please complete the lines bellow where you see \"#TODO\"."
      ]
    },
    {
      "cell_type": "code",
      "metadata": {
        "id": "44jrsl8dqy8H"
      },
      "source": [
        "pip install yfinance"
      ],
      "execution_count": null,
      "outputs": []
    },
    {
      "cell_type": "code",
      "metadata": {
        "id": "0yy1iIVHqjmn"
      },
      "source": [
        "#Objective 1.\n",
        "#Use this cell to import the Numpy (as np), Pandas (as pd), and YFinance (as yf) packages.\n",
        "\n",
        "import numpy as np\n",
        "import pandas as pd\n",
        "import yfinance as yf\n",
        "\n",
        "#Our work will also require some components of the Sklearn and Pandas_Datareader packages as imported below:\n",
        "\n"
      ],
      "execution_count": null,
      "outputs": []
    },
    {
      "cell_type": "code",
      "metadata": {
        "id": "z5h9lRSpq6Lj"
      },
      "source": [
        "import sklearn\n",
        "from sklearn.linear_model import LogisticRegression\n",
        "from sklearn import metrics\n",
        "from sklearn.model_selection import cross_val_score\n",
        "from pandas_datareader import data as pdr\n",
        "yf.pdr_override()"
      ],
      "execution_count": null,
      "outputs": []
    },
    {
      "cell_type": "code",
      "metadata": {
        "id": "G7poS2hQqjmp"
      },
      "source": [
        "#Objective 2.\n",
        "#Select a stock symbol for a stock whose historical data is available on the Yahoo! Finance website.  Store the\n",
        "#string of your chosen symbol to the new variable \"stock_symbol\".\n",
        "\n",
        "stock_symbol = \"Tsla\""
      ],
      "execution_count": null,
      "outputs": []
    },
    {
      "cell_type": "code",
      "metadata": {
        "colab": {
          "base_uri": "https://localhost:8080/",
          "height": 467
        },
        "id": "JAaVBUkfqjmq",
        "outputId": "10a9c8de-7b91-4dbf-da7c-fab31e3344b3"
      },
      "source": [
        "#Objective 3.\n",
        "#Use the function \"pdr.get_data_yahoo(stock_symbol, start_date, end_date)\" to generate a Pandas dataframe of\n",
        "#historical stock data for your chosen stock.  Retain only the first four columns of the dataframe.  Be sure to \n",
        "#drop any rows containing NaN's, and take a peek at the resulting dataframe to make sure everything looks good.\n",
        "\n",
        "df = pdr.get_data_yahoo(stock_symbol, \"2016-1-1\", \"2021-1-1\")\n",
        "df = df.dropna()\n",
        "df = df[[\"Open\", \"High\", \"Low\", \"Close\"]]\n",
        "df"
      ],
      "execution_count": null,
      "outputs": [
        {
          "output_type": "stream",
          "name": "stdout",
          "text": [
            "\r[*********************100%***********************]  1 of 1 completed\n"
          ]
        },
        {
          "output_type": "execute_result",
          "data": {
            "text/html": [
              "<div>\n",
              "<style scoped>\n",
              "    .dataframe tbody tr th:only-of-type {\n",
              "        vertical-align: middle;\n",
              "    }\n",
              "\n",
              "    .dataframe tbody tr th {\n",
              "        vertical-align: top;\n",
              "    }\n",
              "\n",
              "    .dataframe thead th {\n",
              "        text-align: right;\n",
              "    }\n",
              "</style>\n",
              "<table border=\"1\" class=\"dataframe\">\n",
              "  <thead>\n",
              "    <tr style=\"text-align: right;\">\n",
              "      <th></th>\n",
              "      <th>Open</th>\n",
              "      <th>High</th>\n",
              "      <th>Low</th>\n",
              "      <th>Close</th>\n",
              "    </tr>\n",
              "    <tr>\n",
              "      <th>Date</th>\n",
              "      <th></th>\n",
              "      <th></th>\n",
              "      <th></th>\n",
              "      <th></th>\n",
              "    </tr>\n",
              "  </thead>\n",
              "  <tbody>\n",
              "    <tr>\n",
              "      <th>2016-01-04</th>\n",
              "      <td>46.144001</td>\n",
              "      <td>46.276001</td>\n",
              "      <td>43.799999</td>\n",
              "      <td>44.681999</td>\n",
              "    </tr>\n",
              "    <tr>\n",
              "      <th>2016-01-05</th>\n",
              "      <td>45.271999</td>\n",
              "      <td>45.377998</td>\n",
              "      <td>44.000000</td>\n",
              "      <td>44.686001</td>\n",
              "    </tr>\n",
              "    <tr>\n",
              "      <th>2016-01-06</th>\n",
              "      <td>44.000000</td>\n",
              "      <td>44.009998</td>\n",
              "      <td>43.195999</td>\n",
              "      <td>43.807999</td>\n",
              "    </tr>\n",
              "    <tr>\n",
              "      <th>2016-01-07</th>\n",
              "      <td>42.838001</td>\n",
              "      <td>43.688000</td>\n",
              "      <td>42.734001</td>\n",
              "      <td>43.130001</td>\n",
              "    </tr>\n",
              "    <tr>\n",
              "      <th>2016-01-08</th>\n",
              "      <td>43.571999</td>\n",
              "      <td>44.088001</td>\n",
              "      <td>42.153999</td>\n",
              "      <td>42.200001</td>\n",
              "    </tr>\n",
              "    <tr>\n",
              "      <th>...</th>\n",
              "      <td>...</td>\n",
              "      <td>...</td>\n",
              "      <td>...</td>\n",
              "      <td>...</td>\n",
              "    </tr>\n",
              "    <tr>\n",
              "      <th>2020-12-24</th>\n",
              "      <td>642.989990</td>\n",
              "      <td>666.090027</td>\n",
              "      <td>641.000000</td>\n",
              "      <td>661.770020</td>\n",
              "    </tr>\n",
              "    <tr>\n",
              "      <th>2020-12-28</th>\n",
              "      <td>674.510010</td>\n",
              "      <td>681.400024</td>\n",
              "      <td>660.799988</td>\n",
              "      <td>663.690002</td>\n",
              "    </tr>\n",
              "    <tr>\n",
              "      <th>2020-12-29</th>\n",
              "      <td>661.000000</td>\n",
              "      <td>669.900024</td>\n",
              "      <td>655.000000</td>\n",
              "      <td>665.989990</td>\n",
              "    </tr>\n",
              "    <tr>\n",
              "      <th>2020-12-30</th>\n",
              "      <td>672.000000</td>\n",
              "      <td>696.599976</td>\n",
              "      <td>668.359985</td>\n",
              "      <td>694.780029</td>\n",
              "    </tr>\n",
              "    <tr>\n",
              "      <th>2020-12-31</th>\n",
              "      <td>699.989990</td>\n",
              "      <td>718.719971</td>\n",
              "      <td>691.119995</td>\n",
              "      <td>705.669983</td>\n",
              "    </tr>\n",
              "  </tbody>\n",
              "</table>\n",
              "<p>1259 rows × 4 columns</p>\n",
              "</div>"
            ],
            "text/plain": [
              "                  Open        High         Low       Close\n",
              "Date                                                      \n",
              "2016-01-04   46.144001   46.276001   43.799999   44.681999\n",
              "2016-01-05   45.271999   45.377998   44.000000   44.686001\n",
              "2016-01-06   44.000000   44.009998   43.195999   43.807999\n",
              "2016-01-07   42.838001   43.688000   42.734001   43.130001\n",
              "2016-01-08   43.571999   44.088001   42.153999   42.200001\n",
              "...                ...         ...         ...         ...\n",
              "2020-12-24  642.989990  666.090027  641.000000  661.770020\n",
              "2020-12-28  674.510010  681.400024  660.799988  663.690002\n",
              "2020-12-29  661.000000  669.900024  655.000000  665.989990\n",
              "2020-12-30  672.000000  696.599976  668.359985  694.780029\n",
              "2020-12-31  699.989990  718.719971  691.119995  705.669983\n",
              "\n",
              "[1259 rows x 4 columns]"
            ]
          },
          "metadata": {},
          "execution_count": 6
        }
      ]
    },
    {
      "cell_type": "code",
      "metadata": {
        "id": "DfIxVfJ3qjmr"
      },
      "source": [
        "#Objective 4.\n",
        "#Use the historical data to define some predictor variables.  Add these variables to the dataframe.  Include, at a\n",
        "#minimum, (Predictor.I) the rolling average closing price over the past fifteen (15) days and (Predictor.II) the\n",
        "#change in opening price over the past one (1) day.  Be sure to again drop any rows containing NaN's, and take a\n",
        "#peek at the resulting dataframe to make sure everything looks good.  Store the dataframe as the new variable \"X\".\n",
        "\n",
        "df['Close_15_Rolling'] = df['Close'].rolling(window=15).mean()\n",
        "df['Open_1_Change'] = df['Open'].diff()\n",
        "df =df.dropna()\n",
        "X = df"
      ],
      "execution_count": null,
      "outputs": []
    },
    {
      "cell_type": "code",
      "metadata": {
        "colab": {
          "base_uri": "https://localhost:8080/"
        },
        "id": "S0rxxS3jqjms",
        "outputId": "d77a4775-de4f-4421-c8d9-29d50b74850a"
      },
      "source": [
        "#Objective 5.\n",
        "#Define the target or dependent variable to be one (1) if the change in closing price over the past one (1) day is\n",
        "#nonnegative and negative one (-1) if the change in closing price over the past one (1) day is negative.  This\n",
        "#variable's values should be forward-looking (i.e., you should subtract today's price from tomorrow's price rather\n",
        "#than subtracting yesterday's price from today's price).  Store the resulting values as the new variable \"y\".  You\n",
        "#may find the \"np.where(*args)\" function to be useful.  Look it up in Numpy documentation for support.\n",
        "\n",
        "y = np.where(\n",
        "    (df.Close.shift(-1)-df['Close'])>=0\n",
        "             ,\n",
        "             1,\n",
        "             -1)\n",
        "print((df.Close.shift(-1)-df['Close'])[0:4])\n",
        "y"
      ],
      "execution_count": null,
      "outputs": [
        {
          "output_type": "stream",
          "name": "stdout",
          "text": [
            "Date\n",
            "2016-01-25   -0.563999\n",
            "2016-01-26   -1.098003\n",
            "2016-01-27    0.326000\n",
            "2016-01-28    0.300003\n",
            "Name: Close, dtype: float64\n"
          ]
        },
        {
          "output_type": "execute_result",
          "data": {
            "text/plain": [
              "array([-1, -1,  1, ...,  1,  1, -1])"
            ]
          },
          "metadata": {},
          "execution_count": 8
        }
      ]
    },
    {
      "cell_type": "code",
      "metadata": {
        "id": "hXIBvG_-qjmu"
      },
      "source": [
        "#Objective 6.\n",
        "#Split the data into training and test sets, putting the first seventy percent (70%) of the data in the training\n",
        "#set.\n",
        "\n",
        "index = int(0.7*len(X))\n",
        "X_train = X[:index]\n",
        "X_test  = X[index:]\n",
        "y_train = y[:index]\n",
        "y_test  = y[index:] "
      ],
      "execution_count": null,
      "outputs": []
    },
    {
      "cell_type": "code",
      "metadata": {
        "id": "1akL_MBOqjmv"
      },
      "source": [
        "#Objective 7.\n",
        "#Instantiate the Logistic Regression model object, and use its \".fit(*args)\" method to fit the model to the \n",
        "#training data.\n",
        "\n",
        "logistic = LogisticRegression()\n",
        "logistic = logistic.fit(X_train,y_train)"
      ],
      "execution_count": null,
      "outputs": []
    },
    {
      "cell_type": "code",
      "metadata": {
        "colab": {
          "base_uri": "https://localhost:8080/",
          "height": 235
        },
        "id": "vhqRi-T5qjmx",
        "outputId": "429f5201-4160-4e04-af7d-b5b6894d660d"
      },
      "source": [
        "#Objective 8.\n",
        "#Examine the model's coefficients by using its \".coef_\" method.\n",
        "\n",
        "pd.DataFrame(zip(X.columns, np.transpose(logistic.coef_)))"
      ],
      "execution_count": null,
      "outputs": [
        {
          "output_type": "execute_result",
          "data": {
            "text/html": [
              "<div>\n",
              "<style scoped>\n",
              "    .dataframe tbody tr th:only-of-type {\n",
              "        vertical-align: middle;\n",
              "    }\n",
              "\n",
              "    .dataframe tbody tr th {\n",
              "        vertical-align: top;\n",
              "    }\n",
              "\n",
              "    .dataframe thead th {\n",
              "        text-align: right;\n",
              "    }\n",
              "</style>\n",
              "<table border=\"1\" class=\"dataframe\">\n",
              "  <thead>\n",
              "    <tr style=\"text-align: right;\">\n",
              "      <th></th>\n",
              "      <th>0</th>\n",
              "      <th>1</th>\n",
              "    </tr>\n",
              "  </thead>\n",
              "  <tbody>\n",
              "    <tr>\n",
              "      <th>0</th>\n",
              "      <td>Open</td>\n",
              "      <td>[0.25748926532192234]</td>\n",
              "    </tr>\n",
              "    <tr>\n",
              "      <th>1</th>\n",
              "      <td>High</td>\n",
              "      <td>[-0.24669330147232166]</td>\n",
              "    </tr>\n",
              "    <tr>\n",
              "      <th>2</th>\n",
              "      <td>Low</td>\n",
              "      <td>[-0.17595054871875884]</td>\n",
              "    </tr>\n",
              "    <tr>\n",
              "      <th>3</th>\n",
              "      <td>Close</td>\n",
              "      <td>[0.1730750426246728]</td>\n",
              "    </tr>\n",
              "    <tr>\n",
              "      <th>4</th>\n",
              "      <td>Close_15_Rolling</td>\n",
              "      <td>[-0.017130406071283376]</td>\n",
              "    </tr>\n",
              "    <tr>\n",
              "      <th>5</th>\n",
              "      <td>Open_1_Change</td>\n",
              "      <td>[-0.03578597164158731]</td>\n",
              "    </tr>\n",
              "  </tbody>\n",
              "</table>\n",
              "</div>"
            ],
            "text/plain": [
              "                  0                        1\n",
              "0              Open    [0.25748926532192234]\n",
              "1              High   [-0.24669330147232166]\n",
              "2               Low   [-0.17595054871875884]\n",
              "3             Close     [0.1730750426246728]\n",
              "4  Close_15_Rolling  [-0.017130406071283376]\n",
              "5     Open_1_Change   [-0.03578597164158731]"
            ]
          },
          "metadata": {},
          "execution_count": 13
        }
      ]
    },
    {
      "cell_type": "code",
      "metadata": {
        "id": "r_qrdcJdqjmy"
      },
      "source": [
        "#Objective 9.\n",
        "#Use the model's \".predict_proba(*args)\" and \".predict(*args)\" methods to generate predictions over the test set.\n",
        "\n",
        "probabilities = logistic.predict_proba(X_test)\n",
        "predictions = logistic.predict(X_test)"
      ],
      "execution_count": null,
      "outputs": []
    },
    {
      "cell_type": "code",
      "metadata": {
        "colab": {
          "base_uri": "https://localhost:8080/"
        },
        "id": "0w0fGMSisWh8",
        "outputId": "17d9be72-ef47-44a3-a97e-ef16b8ee218a"
      },
      "source": [
        "pred_prob_unpacked = []\n",
        "\n",
        "for idx in range(len(predictions)):\n",
        "  pred_prob_unpacked.append(probabilities[idx,predictions[idx]])\n",
        "pred_prob_unpacked"
      ],
      "execution_count": null,
      "outputs": [
        {
          "output_type": "execute_result",
          "data": {
            "text/plain": [
              "[0.5187331256553713,\n",
              " 0.5160883135232912,\n",
              " 0.5246526247238017,\n",
              " 0.5264565340939693,\n",
              " 0.5122321874940204,\n",
              " 0.5476556553881892,\n",
              " 0.5159698878370663,\n",
              " 0.5043367470920892,\n",
              " 0.5419420960714078,\n",
              " 0.5029668852794247,\n",
              " 0.5865185863867328,\n",
              " 0.5432876400247872,\n",
              " 0.4967748921444842,\n",
              " 0.47135355601644424,\n",
              " 0.5076228623696073,\n",
              " 0.524611953405945,\n",
              " 0.5275522516731332,\n",
              " 0.5280663613655304,\n",
              " 0.5585581163454011,\n",
              " 0.5139575470213191,\n",
              " 0.49845454931803035,\n",
              " 0.5034236585714227,\n",
              " 0.5058292405374221,\n",
              " 0.5150071816020483,\n",
              " 0.5544567320873965,\n",
              " 0.5777372626103225,\n",
              " 0.5032570746718106,\n",
              " 0.5206373606258606,\n",
              " 0.5239559813856671,\n",
              " 0.5587332868580178,\n",
              " 0.5374020005929577,\n",
              " 0.5314486993958714,\n",
              " 0.5585658114579787,\n",
              " 0.5132120106223388,\n",
              " 0.5250389400871016,\n",
              " 0.508245619533169,\n",
              " 0.49841065290405673,\n",
              " 0.5076909224183551,\n",
              " 0.5338583002372126,\n",
              " 0.5357068182614814,\n",
              " 0.5248535808707534,\n",
              " 0.514662098623287,\n",
              " 0.5410019270856211,\n",
              " 0.4963932840669301,\n",
              " 0.47088167418012855,\n",
              " 0.5321081217703303,\n",
              " 0.5427380764103934,\n",
              " 0.5468998317675533,\n",
              " 0.5065428007892996,\n",
              " 0.5283741127288366,\n",
              " 0.5535689195128417,\n",
              " 0.49960299925077367,\n",
              " 0.5344222225412264,\n",
              " 0.5930108474436795,\n",
              " 0.4942944639241464,\n",
              " 0.4623603171769684,\n",
              " 0.5614633606778787,\n",
              " 0.528216709720787,\n",
              " 0.5454023794653171,\n",
              " 0.5929888400959473,\n",
              " 0.5207458975032127,\n",
              " 0.5041210621705396,\n",
              " 0.4699340493356741,\n",
              " 0.48433818094017106,\n",
              " 0.5073007423635756,\n",
              " 0.49374717180664596,\n",
              " 0.4880452792350169,\n",
              " 0.5246870579725788,\n",
              " 0.5025932268284867,\n",
              " 0.5151329751654965,\n",
              " 0.5290328274895948,\n",
              " 0.5527872454655027,\n",
              " 0.5301710643000037,\n",
              " 0.5391142021724225,\n",
              " 0.47665781187054784,\n",
              " 0.41930034920433584,\n",
              " 0.37515421583861863,\n",
              " 0.5114145559078738,\n",
              " 0.5159372156204182,\n",
              " 0.4705452362323824,\n",
              " 0.5478049087558431,\n",
              " 0.5068108063019096,\n",
              " 0.4722826828431798,\n",
              " 0.5147571596936799,\n",
              " 0.40848269065448617,\n",
              " 0.5064748975039262,\n",
              " 0.4562379405971191,\n",
              " 0.5097293588061029,\n",
              " 0.482983374789595,\n",
              " 0.4748302505667509,\n",
              " 0.49703019079873545,\n",
              " 0.5258147817052832,\n",
              " 0.4976203899548876,\n",
              " 0.4911868550494269,\n",
              " 0.4313021757190403,\n",
              " 0.5281084992624429,\n",
              " 0.49278431215899365,\n",
              " 0.5116510134737767,\n",
              " 0.4761481370057493,\n",
              " 0.49957767435038575,\n",
              " 0.4499422545512828,\n",
              " 0.44498589991666354,\n",
              " 0.47575333363233224,\n",
              " 0.4999511722637315,\n",
              " 0.44306441274916203,\n",
              " 0.42542867689941566,\n",
              " 0.43146078753478817,\n",
              " 0.42035206803139896,\n",
              " 0.4475820145000085,\n",
              " 0.466592310404095,\n",
              " 0.39675946647516386,\n",
              " 0.41563600360727443,\n",
              " 0.4208917759158401,\n",
              " 0.4155601052471331,\n",
              " 0.48915582093679383,\n",
              " 0.44479965838306684,\n",
              " 0.5009337365882376,\n",
              " 0.4434878789008742,\n",
              " 0.5079081974085312,\n",
              " 0.5375644263517307,\n",
              " 0.44817420000430575,\n",
              " 0.431833455795498,\n",
              " 0.33414890821811455,\n",
              " 0.42800239598480044,\n",
              " 0.4399510837923791,\n",
              " 0.34954469328624177,\n",
              " 0.4821992145249384,\n",
              " 0.485549212488222,\n",
              " 0.32949588553416465,\n",
              " 0.4535275004824654,\n",
              " 0.40049484695162374,\n",
              " 0.4310553812456637,\n",
              " 0.3801699639282156,\n",
              " 0.34200964164761766,\n",
              " 0.22218763259151256,\n",
              " 0.3781134615464926,\n",
              " 0.4733321654466577,\n",
              " 0.3541701054284614,\n",
              " 0.349423599249128,\n",
              " 0.34968321837656186,\n",
              " 0.3079099545593552,\n",
              " 0.40512602589439206,\n",
              " 0.08042948510659725,\n",
              " 0.01874802692383863,\n",
              " 0.5522555221960467,\n",
              " 0.10256332784475385,\n",
              " 0.11873278283530879,\n",
              " 0.22635925531083806,\n",
              " 0.38756441524179547,\n",
              " 0.25621201645313857,\n",
              " 0.1447901675912355,\n",
              " 0.14908109002229636,\n",
              " 0.2643805426962599,\n",
              " 0.16263085714029682,\n",
              " 0.6904113689057509,\n",
              " 0.4305920647549482,\n",
              " 0.2310201725123708,\n",
              " 0.3007191707987099,\n",
              " 0.12922114465866738,\n",
              " 0.3195205628734009,\n",
              " 0.1840631452772754,\n",
              " 0.22453575247826843,\n",
              " 0.35743339672955343,\n",
              " 0.5253163748232758,\n",
              " 0.17228418918394334,\n",
              " 0.27701998171880954,\n",
              " 0.03720438513663112,\n",
              " 0.38361431803987756,\n",
              " 0.32647693243190745,\n",
              " 0.33163331503231025,\n",
              " 0.5028517949118924,\n",
              " 0.22920018490549043,\n",
              " 0.2519110227789208,\n",
              " 0.27934807765550274,\n",
              " 0.10011890169956787,\n",
              " 0.045899159196889,\n",
              " 0.446642234024347,\n",
              " 0.17099618526963486,\n",
              " 0.3865015146656612,\n",
              " 0.39939659660300486,\n",
              " 0.4065585886852241,\n",
              " 0.4261563784523726,\n",
              " 0.20168150526113085,\n",
              " 0.36573009766161774,\n",
              " 0.38190784706696945,\n",
              " 0.4242159569883893,\n",
              " 0.47478964208398367,\n",
              " 0.27170228159393084,\n",
              " 0.5219471784818858,\n",
              " 0.397282973413375,\n",
              " 0.25297208062105797,\n",
              " 0.07927150738009636,\n",
              " 0.42555369540830645,\n",
              " 0.30698047636665055,\n",
              " 0.37839693856205797,\n",
              " 0.3873094957641809,\n",
              " 0.2675660323273347,\n",
              " 0.442205425729099,\n",
              " 0.3000198423294688,\n",
              " 0.3838495189532107,\n",
              " 0.16541973021412362,\n",
              " 0.2744676518412612,\n",
              " 0.3512267536776729,\n",
              " 0.25674015842436293,\n",
              " 0.4407076578369122,\n",
              " 0.21456741322664508,\n",
              " 0.16833091982860474,\n",
              " 0.3593216185481505,\n",
              " 0.18862084829977424,\n",
              " 0.22285679763208419,\n",
              " 0.18232980345613295,\n",
              " 0.14676521931990816,\n",
              " 0.5003403276418119,\n",
              " 0.4121799181080394,\n",
              " 0.22686744184701343,\n",
              " 0.2556068427030607,\n",
              " 0.2656366638164946,\n",
              " 0.26735755562767327,\n",
              " 0.371022564050075,\n",
              " 0.22944611071904236,\n",
              " 0.30268493797939083,\n",
              " 0.5261564444608197,\n",
              " 0.22019352675726223,\n",
              " 0.2451317868281836,\n",
              " 0.15159920111540537,\n",
              " 0.19746374627291047,\n",
              " 0.23308429574040082,\n",
              " 0.2789502620246001,\n",
              " 0.3610477142279712,\n",
              " 0.21656685993287758,\n",
              " 0.24092329055545122,\n",
              " 0.18379541845623737,\n",
              " 0.0955735167422365,\n",
              " 0.3970839134351307,\n",
              " 0.14740912492556776,\n",
              " 0.27695676566781774,\n",
              " 0.20053811432811874,\n",
              " 0.165052969922516,\n",
              " 0.2784167701440961,\n",
              " 0.21337498522363818,\n",
              " 0.18130261567097228,\n",
              " 0.23605553901406492,\n",
              " 0.30255479658131945,\n",
              " 0.2111696393250502,\n",
              " 0.272186985638658,\n",
              " 0.05343187994793449,\n",
              " 0.05169451512845062,\n",
              " 0.18781223003807906,\n",
              " 0.06259559070293355,\n",
              " 0.24637754608127335,\n",
              " 0.5936079539005378,\n",
              " 0.48464137647382827,\n",
              " 0.05332569050355202,\n",
              " 0.00020961499670447866,\n",
              " 0.7180059796855209,\n",
              " 0.8272669215239928,\n",
              " 0.0721488394709214,\n",
              " 0.06551930112665233,\n",
              " 0.05384531987858323,\n",
              " 0.0203732842175827,\n",
              " 0.13545210893266676,\n",
              " 0.15921797487507577,\n",
              " 0.25880103940414045,\n",
              " 0.026243354874752475,\n",
              " 0.003644221896326203,\n",
              " 0.030309033679685116,\n",
              " 0.05418325579371421,\n",
              " 0.10707371580681739,\n",
              " 0.03133074738752939,\n",
              " 0.036145532834237305,\n",
              " 0.12330755148382135,\n",
              " 0.043594716239154216,\n",
              " 0.28377918609923625,\n",
              " 0.2371799596965684,\n",
              " 0.06041376821286508,\n",
              " 0.014960241748017612,\n",
              " 0.04492295955854266,\n",
              " 0.1627858428727575,\n",
              " 0.008609070153314186,\n",
              " 0.04552371611961,\n",
              " 0.0710610430714704,\n",
              " 0.007475385333686626,\n",
              " 0.008408881840893504,\n",
              " 0.641409326862373,\n",
              " 0.1427367263805534,\n",
              " 0.010095532070201524,\n",
              " 0.0046534600832544935,\n",
              " 0.04113482346541872,\n",
              " 0.0036015226746926887,\n",
              " 0.027419503575571026,\n",
              " 0.9966701295754034,\n",
              " 0.002690805300692151,\n",
              " 0.1990547862646622,\n",
              " 0.006046564044723164,\n",
              " 0.07591227943837286,\n",
              " 0.00307133898913896,\n",
              " 0.21070675951017126,\n",
              " 0.006120960917239777,\n",
              " 0.0003097639087079621,\n",
              " 0.0014001010533930048,\n",
              " 0.005182555184313643,\n",
              " 0.06734995755361682,\n",
              " 0.9732501968547919,\n",
              " 0.04153446195948574,\n",
              " 0.038218244177881416,\n",
              " 0.011315455855703904,\n",
              " 0.004946326245211535,\n",
              " 0.018323068573193345,\n",
              " 0.009413109751251123,\n",
              " 0.0064532174015788195,\n",
              " 0.030699366124559816,\n",
              " 0.0009103196255494647,\n",
              " 0.007837104235114129,\n",
              " 0.042213517867911464,\n",
              " 0.025433442220675204,\n",
              " 0.021368204872718875,\n",
              " 0.0623570281525531,\n",
              " 0.010406455694269401,\n",
              " 0.057750073090098025,\n",
              " 0.0069441467557848115,\n",
              " 0.02461128818518665,\n",
              " 0.02709853860310108,\n",
              " 0.05582626525914174,\n",
              " 0.08424704279782395,\n",
              " 0.004211807768073837,\n",
              " 0.010347293072237421,\n",
              " 0.33206455772159127,\n",
              " 0.007359019737738785,\n",
              " 0.00834534734229078,\n",
              " 0.02300889903498402,\n",
              " 0.010429593426406158,\n",
              " 0.12334572509142099,\n",
              " 0.007428793990363596,\n",
              " 0.004253906890483732,\n",
              " 0.011720697361512551,\n",
              " 0.02720934477701179,\n",
              " 0.07370106776534502,\n",
              " 0.0017540769319341213,\n",
              " 0.49746806120864295,\n",
              " 0.07236640055894566,\n",
              " 0.008332654536111185,\n",
              " 0.08746543506480586,\n",
              " 0.03274149715672521,\n",
              " 0.025971166801478728,\n",
              " 0.0009643394656309372,\n",
              " 0.0015487551829190763,\n",
              " 0.015961755786897968,\n",
              " 0.00506005475005991,\n",
              " 0.019260207422857327,\n",
              " 0.014072559341274427,\n",
              " 0.0008448630291767824,\n",
              " 0.0685717660916611,\n",
              " 0.32560629019730236,\n",
              " 0.2612416061899031,\n",
              " 0.0064490658543895005,\n",
              " 0.03204976225723372,\n",
              " 0.00019897826707308307,\n",
              " 0.0034602899408169977,\n",
              " 0.10855673267137582,\n",
              " 0.01027711567278768,\n",
              " 0.002696929883525668,\n",
              " 0.003817872590861669,\n",
              " 0.008825428007035252,\n",
              " 0.09800936643951531,\n",
              " 0.0020852221932466867,\n",
              " 0.2649975644398085,\n",
              " 0.009886565249849731,\n",
              " 0.4350826589528886,\n",
              " 0.004514903646930487,\n",
              " 0.0004278280242013025,\n",
              " 0.0006205008713275053,\n",
              " 0.006536997887419013,\n",
              " 0.0008458797937547003,\n",
              " 0.0002836624975054119]"
            ]
          },
          "metadata": {},
          "execution_count": 15
        }
      ]
    },
    {
      "cell_type": "code",
      "metadata": {
        "colab": {
          "base_uri": "https://localhost:8080/"
        },
        "id": "R-YoCT7tqjmy",
        "outputId": "90a3ff1f-9278-4476-fbf4-916bbff14595"
      },
      "source": [
        "#Objective 10.\n",
        "#Use the function \"metrics.confusion_matrix(*args)\" to create a confusion matrix comparing the predicted and true\n",
        "#classification labels over the test set.\n",
        "\n",
        "sklearn.metrics.confusion_matrix(y_pred=predictions,y_true=y_test)"
      ],
      "execution_count": null,
      "outputs": [
        {
          "output_type": "execute_result",
          "data": {
            "text/plain": [
              "array([[123,  36],\n",
              "       [164,  51]])"
            ]
          },
          "metadata": {},
          "execution_count": 18
        }
      ]
    },
    {
      "cell_type": "code",
      "metadata": {
        "colab": {
          "base_uri": "https://localhost:8080/"
        },
        "id": "9yiR5OBntEzP",
        "outputId": "17467746-ea29-438f-8161-70f519679510"
      },
      "source": [
        "print(sklearn.metrics.roc_auc_score(y_test, probabilities[:, 1]))"
      ],
      "execution_count": null,
      "outputs": [
        {
          "output_type": "stream",
          "name": "stdout",
          "text": [
            "0.4939885914874945\n"
          ]
        }
      ]
    },
    {
      "cell_type": "code",
      "metadata": {
        "colab": {
          "base_uri": "https://localhost:8080/"
        },
        "id": "FDUwvss8qjmz",
        "outputId": "74052898-58df-41a8-f6f7-c8508f7102a2"
      },
      "source": [
        "#Objective 11.\n",
        "#Calculate the model's accuracy on the test set using its \".score(*args)\" method.\n",
        "\n",
        "logistic.score(X_test,y_test)"
      ],
      "execution_count": null,
      "outputs": [
        {
          "output_type": "execute_result",
          "data": {
            "text/plain": [
              "0.46524064171123"
            ]
          },
          "metadata": {},
          "execution_count": 20
        }
      ]
    },
    {
      "cell_type": "code",
      "metadata": {
        "id": "PhtApEbkqjmz"
      },
      "source": [
        "#Objective 12.\n",
        "#Use five-fold cross validation to cross-check the accuracy of the model over different held-out test sets.  This\n",
        "#is where you should use the function \"cross_val_score(*args)\".\n",
        "\n",
        "cross_val = cross_val_score(LogisticRegression(),X=X,y=y,cv=5)"
      ],
      "execution_count": null,
      "outputs": []
    },
    {
      "cell_type": "code",
      "metadata": {
        "id": "QeM8ndGUqjm0"
      },
      "source": [
        ""
      ],
      "execution_count": null,
      "outputs": []
    }
  ]
}